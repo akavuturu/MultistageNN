{
 "cells": [
  {
   "cell_type": "code",
   "execution_count": 1,
   "metadata": {},
   "outputs": [
    {
     "name": "stdout",
     "output_type": "stream",
     "text": [
      "WARNING:tensorflow:From c:\\Users\\akavu\\miniconda3\\envs\\msnn-env\\lib\\site-packages\\tf_keras\\src\\losses.py:2976: The name tf.losses.sparse_softmax_cross_entropy is deprecated. Please use tf.compat.v1.losses.sparse_softmax_cross_entropy instead.\n",
      "\n",
      "WARNING:tensorflow:From c:\\Users\\akavu\\miniconda3\\envs\\msnn-env\\lib\\site-packages\\tensorflow_probability\\python\\internal\\backend\\numpy\\_utils.py:48: The name tf.logging.TaskLevelStatusMessage is deprecated. Please use tf.compat.v1.logging.TaskLevelStatusMessage instead.\n",
      "\n",
      "WARNING:tensorflow:From c:\\Users\\akavu\\miniconda3\\envs\\msnn-env\\lib\\site-packages\\tensorflow_probability\\python\\internal\\backend\\numpy\\_utils.py:48: The name tf.control_flow_v2_enabled is deprecated. Please use tf.compat.v1.control_flow_v2_enabled instead.\n",
      "\n"
     ]
    }
   ],
   "source": [
    "import warnings\n",
    "warnings.simplefilter(\"ignore\")\n",
    "import tensorflow as tf\n",
    "import numpy as np\n",
    "import matplotlib.pyplot as plt\n",
    "import tensorflow_probability as tfp\n",
    "from scipy.io import savemat\n",
    "from scipy.fft import fftfreq, fftshift, fftn\n",
    "import matplotlib.pyplot as plt\n",
    "from mpl_toolkits.mplot3d import Axes3D\n",
    "from pylab import *\n",
    "from tqdm import tqdm\n",
    "\n",
    "from utils import NeuralNet, create_ds, poisson, calculate_N\n",
    "import argparse"
   ]
  },
  {
   "cell_type": "code",
   "execution_count": 2,
   "metadata": {},
   "outputs": [],
   "source": [
    "def parse_arguments():\n",
    "    parser = argparse.ArgumentParser(description=\"Initialize and train the network.\")\n",
    "\n",
    "    # Network initialization arguments\n",
    "    parser.add_argument(\n",
    "        \"--num_stages\", type=int, required=True, help=\"Number of stages in the network.\"\n",
    "    )\n",
    "    parser.add_argument(\n",
    "        \"--num_hidden_layers\", type=int, required=True, help=\"Number of hidden layers per stage.\"\n",
    "    )\n",
    "    parser.add_argument(\n",
    "        \"--num_hidden_nodes\", type=int, required=True, help=\"Number of hidden nodes per layer.\"\n",
    "    )\n",
    "    parser.add_argument(\n",
    "        \"--dim\", type=int, required=True, help=\"Dimensionality of the input data.\"\n",
    "    )\n",
    "\n",
    "    # Training parameters\n",
    "    parser.add_argument(\n",
    "        \"--N_train\", type=int, required=True, help=\"Number of training samples.\"\n",
    "    )\n",
    "\n",
    "    # Optional sample_sizes list argument\n",
    "    parser.add_argument(\n",
    "        \"--sample_sizes\",\n",
    "        type=int,\n",
    "        nargs=\"*\",\n",
    "        help=\"List of sample sizes, one for each stage. Must match the number of stages.\",\n",
    "    )\n",
    "\n",
    "    args = parser.parse_args()\n",
    "\n",
    "    # Validate sample_sizes if provided\n",
    "    if args.sample_sizes and len(args.sample_sizes) != args.num_stages:\n",
    "        parser.error(\n",
    "            f\"--sample_sizes must have exactly {args.num_stages} elements, one for each stage.\"\n",
    "        )\n",
    "\n",
    "    return args"
   ]
  },
  {
   "cell_type": "code",
   "execution_count": 3,
   "metadata": {},
   "outputs": [],
   "source": [
    "class MultistageNeuralNetwork:\n",
    "    \"\"\"\n",
    "    MultistageNeuralNetwork is a multi-stage model used for predicting\n",
    "    high-dimensional function outputs through regression. This class encapsulates\n",
    "    the functionality for constructing, training, and predicting using a sequence\n",
    "    of neural networks, where each stage of the network can focus on different\n",
    "    aspects of the data.\n",
    "\n",
    "    Attributes:\n",
    "        dim (int): Dimensionality of the input data.\n",
    "        N (int): Number of points per dimension in the dataset.\n",
    "        stages (list): List of neural networks, one for each stage.\n",
    "        layers (list): Architecture of the neural network (input layer, hidden layers, output layer).\n",
    "        lt (list): Minimum values for each dimension in the input data.\n",
    "        ut (list): Maximum values for each dimension in the input data.\n",
    "    \"\"\"\n",
    "\n",
    "    def __init__(self, x_train, num_stages, num_hidden_layers, num_hidden_nodes):\n",
    "        \"\"\"\n",
    "        Initialize the MultistageNeuralNetwork instance.\n",
    "\n",
    "        Args:\n",
    "            x_train (tf.Tensor): Input training data.\n",
    "            num_stages (int): Number of stages in the multi-stage neural network.\n",
    "            num_hidden_layers (int): Number of hidden layers in each stage.\n",
    "            num_hidden_nodes (int): Number of nodes in each hidden layer.\n",
    "        \"\"\"\n",
    "        self.dim = x_train.shape[-1]                                 # Number of dimensions in the input data.\n",
    "        self.N = int(round(x_train.shape[0] ** (1 / self.dim)))      # Number of points per dimension.\n",
    "        self.stages = [None] * num_stages                            # List to store each stage's neural network.\n",
    "        self.layers = [self.dim] + ([num_hidden_nodes] * num_hidden_layers) + [1]  # Neural network architecture.\n",
    "        self.lt = [tf.math.reduce_min(x_train[:, i]) for i in range(x_train.shape[-1])]  # Min values for each dimension.\n",
    "        self.ut = [tf.math.reduce_max(x_train[:, i]) for i in range(x_train.shape[-1])]  # Max values for each dimension.\n",
    "\n",
    "    # @staticmethod\n",
    "    # def sample(x_train, y_train, step):\n",
    "    #     \"\"\"\n",
    "    #     Downsample the dataset and corresponding labels by selecting evenly spaced points.\n",
    "\n",
    "    #     Args:\n",
    "    #         x_train (tf.Tensor): Input data points.\n",
    "    #         y_train (tf.Tensor): Corresponding labels.\n",
    "    #         step (int): Interval for sampling points.\n",
    "\n",
    "    #     Returns:\n",
    "    #         tuple: Downsampled data points and corresponding labels.\n",
    "    #     \"\"\"\n",
    "    #     dim = x_train.shape[-1]\n",
    "    #     N = int(round(x_train.shape[0] ** (1 / dim)))\n",
    "    #     reshaped_x = tf.reshape(x_train, [N] * dim + [dim])  # Reshape into a grid format.\n",
    "    #     reshaped_y = tf.reshape(y_train, [N] * dim)          # Reshape labels accordingly.\n",
    "\n",
    "    #     slices = tuple(slice(0, N, step) for _ in range(dim))  # Create slices for even spacing.\n",
    "    #     sampled_grid = reshaped_x[slices + (slice(None),)]     # Extract evenly spaced grid points.\n",
    "    #     sampled_y = reshaped_y[slices]                        # Extract corresponding labels.\n",
    "\n",
    "    #     sampled_points = tf.reshape(sampled_grid, (-1, dim))  # Flatten the sampled grid.\n",
    "    #     sampled_y = tf.reshape(sampled_y, (-1, 1))            # Flatten the sampled labels.\n",
    "\n",
    "    #     print(f\"Sampled data size: {sampled_points.shape}, Sampled labels size: {sampled_y.shape}\")\n",
    "    #     return sampled_points, sampled_y\n",
    "\n",
    "    def train(self, x_train, y_train, stage, kappa, iters):\n",
    "        \"\"\"\n",
    "        Train a specific stage of the neural network.\n",
    "\n",
    "        Args:\n",
    "            x_train (tf.Tensor): Input training data.\n",
    "            y_train (tf.Tensor): Corresponding labels for training.\n",
    "            stage (int): The stage index to train.\n",
    "            kappa (float): Scaling factor for activation.\n",
    "            iters (list): Number of iterations for [Adam optimizer, L-BFGS optimizer].\n",
    "        \"\"\"\n",
    "        act = 0 if stage == 0 else 1  # Use different activation for first stage.\n",
    "        lt = [tf.cast(tf.math.reduce_min(x_train[:, i]).numpy(), dtype=tf.float64) for i in range(x_train.shape[-1])]\n",
    "        ut = [tf.cast(tf.math.reduce_max(x_train[:, i]).numpy(), dtype=tf.float64) for i in range(x_train.shape[-1])]\n",
    "\n",
    "        self.stages[stage] = NeuralNet(x_train, y_train, self.layers, kappa=kappa, lt=lt, ut=ut, acts=act)\n",
    "        self.stages[stage].train(iters[0], 1)  # Train using Adam optimizer.\n",
    "        self.stages[stage].train(iters[1], 2)  # Train using L-BFGS optimizer.\n",
    "\n",
    "    @staticmethod\n",
    "    def fftn_(x_train, residue):\n",
    "        \"\"\"\n",
    "        Perform a Fast Fourier Transform (FFT) to analyze the frequency domain of the residue.\n",
    "\n",
    "        Args:\n",
    "            x_train (tf.Tensor): Input training data.\n",
    "            residue (tf.Tensor): Residual errors between predictions and true values.\n",
    "\n",
    "        Returns:\n",
    "            float: Adjusted scaling factor (kappa) based on the dominant frequency.\n",
    "        \"\"\"\n",
    "        dim = x_train.shape[-1]\n",
    "        N_train = int(round(x_train.shape[0] ** (1 / dim)))\n",
    "        g = residue.numpy()\n",
    "\n",
    "        GG = g.reshape([N_train] * dim)  # Reshape residue into a grid.\n",
    "        G = fftn(GG)                    # Perform FFT.\n",
    "        G_shifted = fftshift(G)         # Shift zero-frequency component to the center.\n",
    "\n",
    "        N = len(G)\n",
    "        total_time_range = 2  # Time range from -1 to 1.\n",
    "        sample_rate = N / total_time_range  # Sampling rate.\n",
    "\n",
    "        half_N = N // 2\n",
    "        T = 1.0 / sample_rate\n",
    "        idxs = tuple(slice(half_N, N, 1) for _ in range(dim))\n",
    "        G_pos = G_shifted[idxs]  # Extract positive frequencies.\n",
    "\n",
    "        freqs = [fftshift(fftfreq(GG.shape[i], d=T)) for i in range(len(GG.shape))]\n",
    "        freq_pos = [freqs[i][half_N:] for i in range(len(freqs))]\n",
    "\n",
    "        magnitude_spectrum = np.abs(G_pos)\n",
    "        max_idx = np.unravel_index(np.argmax(magnitude_spectrum), magnitude_spectrum.shape)\n",
    "        dominant_freqs = [freq_pos[i][max_idx[i]] for i in range(len(freq_pos))]\n",
    "        magnitude = magnitude_spectrum[max_idx] / (N ** dim)  # Normalize magnitude.\n",
    "\n",
    "        dominant_freq = max(dominant_freqs)\n",
    "        print(f\"Sample rate = {sample_rate} Hz, Dominant Frequency = {dominant_freq} Hz, Magnitude = {magnitude}\")\n",
    "\n",
    "        kappa_f = 2 * np.pi * dominant_freq if dominant_freq > 0 else 2 * np.pi * 0.0001\n",
    "        print(f\"New Kappa: {kappa_f}\")\n",
    "        return kappa_f, dominant_freq\n"
   ]
  },
  {
   "cell_type": "code",
   "execution_count": 36,
   "metadata": {},
   "outputs": [],
   "source": [
    "def poisson(x_train):\n",
    "    N_f = x_train.shape[0]\n",
    "    dim = x_train.shape[-1]\n",
    "    coeffs = 1 # used to be random from 1 to dim - 1\n",
    "    const_2 = 1\n",
    "    x_radius = 1\n",
    "\n",
    "    xf = x_train.numpy() # used to be random points of size (N_f, args.dim) normalized by sqrt(sum(squares))\n",
    "    x = xf\n",
    "\n",
    "    u1 = x_radius**2 - np.sum(x**2, 1, keepdims=True)\n",
    "    du1_dx = -2 * x\n",
    "    d2u1_dx2 = -2\n",
    "\n",
    "    if dim == 1: x1, x2 = x, x  # Reshape 1D array to 2D array with one column\n",
    "    else: x1, x2 = x[:, :-1], x[:, 1:]\n",
    "    u2 = coeffs * np.sin(x1 + const_2 * np.cos(x2) + x2 * np.cos(x1))\n",
    "    u2 = np.sum(u2, 1, keepdims=True)\n",
    "    du2_dx_part1 = coeffs * np.cos(x1 + const_2 * np.cos(x2) + x2 * np.cos(x1)) * \\\n",
    "            (1 - x2 * np.sin(x1))\n",
    "    du2_dx_part2 = coeffs * np.cos(x1 + const_2 * np.cos(x2) + x2 * np.cos(x1)) * \\\n",
    "            (-const_2 * np.sin(x2) + np.cos(x1))\n",
    "    du2_dx = np.zeros((N_f, dim))\n",
    "    du2_dx[:, :-1] += du2_dx_part1\n",
    "    du2_dx[:, 1:] += du2_dx_part2\n",
    "    d2u2_dx2_part1 = -coeffs * np.sin(x1 + const_2 * np.cos(x2) + x2 * np.cos(x1)) * (1 - x2 * np.sin(x1))**2 + \\\n",
    "            coeffs * np.cos(x1 + const_2 * np.cos(x2) + x2 * np.cos(x1)) * (- x2 * np.cos(x1))\n",
    "    d2u2_dx2_part2 = -coeffs * np.sin(x1 + const_2 * np.cos(x2) + x2 * np.cos(x1)) * (-const_2 * np.sin(x2) + np.cos(x1))**2 + \\\n",
    "            coeffs * np.cos(x1 + const_2 * np.cos(x2) + x2 * np.cos(x1)) * (-const_2 * np.cos(x2))\n",
    "    d2u2_dx2 = np.zeros((N_f, dim))\n",
    "    d2u2_dx2[:, :-1] += d2u2_dx2_part1\n",
    "    d2u2_dx2[:, 1:] += d2u2_dx2_part2\n",
    "    ff = u1 * d2u2_dx2 + 2 * du1_dx * du2_dx + u2 * d2u1_dx2\n",
    "    ff = np.sum(ff, 1)\n",
    "    u = (u1 * u2).reshape(-1)\n",
    "    ff = ff + np.sin(u)\n",
    "\n",
    "    ff = tf.convert_to_tensor(ff, dtype=tf.float64)  \n",
    "    return ff"
   ]
  },
  {
   "cell_type": "code",
   "execution_count": 37,
   "metadata": {},
   "outputs": [
    {
     "name": "stdout",
     "output_type": "stream",
     "text": [
      "tf.Tensor(\n",
      "[[ 1.74971663]\n",
      " [ 1.7454682 ]\n",
      " [ 1.74121816]\n",
      " ...\n",
      " [-1.77927843]\n",
      " [-1.7817914 ]\n",
      " [-1.78431201]], shape=(1600, 1), dtype=float64)\n"
     ]
    }
   ],
   "source": [
    "# Create train and eval data\n",
    "dim = 1\n",
    "N_train = int(round(1600 ** (1 / dim)))\n",
    "N_eval = int(round(5000 ** (1 / dim)))\n",
    "x_train = create_ds(dim, -1.02, 1.02, N_train)\n",
    "y_train = tf.reshape(poisson(x_train), [len(x_train), 1])\n",
    "# x_eval = create_ds(dim, -1.02, 1.02, N_eval)\n",
    "# y_eval = tf.reshape(poisson(x_eval), [len(x_eval), 1])\n",
    "print(y_train)"
   ]
  },
  {
   "cell_type": "code",
   "execution_count": 18,
   "metadata": {},
   "outputs": [
    {
     "name": "stdout",
     "output_type": "stream",
     "text": [
      "******** TRAINING STAGE 0 ********\n",
      "Data size: (1024, 5), Label size: (1024, 1)\n"
     ]
    },
    {
     "name": "stderr",
     "output_type": "stream",
     "text": [
      "Adam  Optimization: 100%|██████████| 3000/3000 [00:01<00:00, 2289.09it/s]\n",
      "LBFGS Optimization:  43%|████▎     | 2993/7000 [00:37<00:48, 82.30iter/s]"
     ]
    },
    {
     "name": "stdout",
     "output_type": "stream",
     "text": [
      "Mode: LBFGSIter: 3000, loss: 8.5837e-01\n"
     ]
    },
    {
     "name": "stderr",
     "output_type": "stream",
     "text": [
      "LBFGS Optimization:  86%|████████▌ | 5998/7000 [01:13<00:11, 84.12iter/s]"
     ]
    },
    {
     "name": "stdout",
     "output_type": "stream",
     "text": [
      "Mode: LBFGSIter: 6000, loss: 4.5192e-01\n"
     ]
    },
    {
     "name": "stderr",
     "output_type": "stream",
     "text": [
      "LBFGS Optimization:  99%|█████████▊| 6901/7000 [01:24<00:01, 81.62iter/s]\n"
     ]
    },
    {
     "name": "stdout",
     "output_type": "stream",
     "text": [
      "******** TRAINING STAGE 1 ********\n",
      "Sample rate = 2.0 Hz, Dominant Frequency = 0.5 Hz, Magnitude = 0.033719488539845965\n",
      "New Kappa: 3.141592653589793\n",
      "N_train: 4, Data size: (1024, 5), Label size: (1024, 1)\n"
     ]
    },
    {
     "name": "stderr",
     "output_type": "stream",
     "text": [
      "Adam  Optimization: 100%|██████████| 5000/5000 [00:02<00:00, 2284.33it/s]\n",
      "LBFGS Optimization:  21%|██▏       | 2995/14000 [00:38<02:21, 77.72iter/s]"
     ]
    },
    {
     "name": "stdout",
     "output_type": "stream",
     "text": [
      "Mode: LBFGSIter: 3000, loss: 7.7980e-04\n"
     ]
    },
    {
     "name": "stderr",
     "output_type": "stream",
     "text": [
      "LBFGS Optimization:  43%|████▎     | 5993/14000 [01:16<01:41, 78.74iter/s]"
     ]
    },
    {
     "name": "stdout",
     "output_type": "stream",
     "text": [
      "Mode: LBFGSIter: 6000, loss: 2.7683e-04\n"
     ]
    },
    {
     "name": "stderr",
     "output_type": "stream",
     "text": [
      "LBFGS Optimization:  64%|██████▍   | 8992/14000 [01:53<01:00, 82.60iter/s]"
     ]
    },
    {
     "name": "stdout",
     "output_type": "stream",
     "text": [
      "Mode: LBFGSIter: 9000, loss: 1.1742e-04\n"
     ]
    },
    {
     "name": "stderr",
     "output_type": "stream",
     "text": [
      "LBFGS Optimization:  86%|████████▌ | 11992/14000 [02:29<00:24, 82.69iter/s]"
     ]
    },
    {
     "name": "stdout",
     "output_type": "stream",
     "text": [
      "Mode: LBFGSIter: 12000, loss: 8.1004e-05\n"
     ]
    },
    {
     "name": "stderr",
     "output_type": "stream",
     "text": [
      "LBFGS Optimization: 100%|█████████▉| 13980/14000 [02:53<00:00, 80.56iter/s]\n"
     ]
    },
    {
     "name": "stdout",
     "output_type": "stream",
     "text": [
      "******** TRAINING STAGE 2 ********\n",
      "Sample rate = 2.0 Hz, Dominant Frequency = 0.5 Hz, Magnitude = 0.033719488539845965\n",
      "New Kappa: 3.141592653589793\n",
      "N_train: 4, Data size: (1024, 5), Label size: (1024, 1)\n"
     ]
    },
    {
     "name": "stderr",
     "output_type": "stream",
     "text": [
      "Adam  Optimization: 100%|██████████| 5000/5000 [00:02<00:00, 2352.84it/s]\n",
      "LBFGS Optimization:  14%|█▍        | 2997/21000 [00:38<03:56, 76.04iter/s]"
     ]
    },
    {
     "name": "stdout",
     "output_type": "stream",
     "text": [
      "Mode: LBFGSIter: 3000, loss: 2.2536e-07\n"
     ]
    },
    {
     "name": "stderr",
     "output_type": "stream",
     "text": [
      "LBFGS Optimization:  29%|██▊       | 5998/21000 [01:16<03:13, 77.55iter/s]"
     ]
    },
    {
     "name": "stdout",
     "output_type": "stream",
     "text": [
      "Mode: LBFGSIter: 6000, loss: 4.2115e-08\n"
     ]
    },
    {
     "name": "stderr",
     "output_type": "stream",
     "text": [
      "LBFGS Optimization:  43%|████▎     | 8995/21000 [01:53<02:27, 81.41iter/s]"
     ]
    },
    {
     "name": "stdout",
     "output_type": "stream",
     "text": [
      "Mode: LBFGSIter: 9000, loss: 2.0615e-08\n"
     ]
    },
    {
     "name": "stderr",
     "output_type": "stream",
     "text": [
      "LBFGS Optimization:  57%|█████▋    | 11992/21000 [02:30<01:55, 78.27iter/s]"
     ]
    },
    {
     "name": "stdout",
     "output_type": "stream",
     "text": [
      "Mode: LBFGSIter: 12000, loss: 1.1692e-08\n"
     ]
    },
    {
     "name": "stderr",
     "output_type": "stream",
     "text": [
      "LBFGS Optimization:  71%|███████▏  | 14996/21000 [03:07<01:13, 81.61iter/s]"
     ]
    },
    {
     "name": "stdout",
     "output_type": "stream",
     "text": [
      "Mode: LBFGSIter: 15000, loss: 8.3861e-09\n"
     ]
    },
    {
     "name": "stderr",
     "output_type": "stream",
     "text": [
      "LBFGS Optimization:  86%|████████▌ | 17997/21000 [03:44<00:36, 81.91iter/s]"
     ]
    },
    {
     "name": "stdout",
     "output_type": "stream",
     "text": [
      "Mode: LBFGSIter: 18000, loss: 6.4578e-09\n"
     ]
    },
    {
     "name": "stderr",
     "output_type": "stream",
     "text": [
      "LBFGS Optimization:  99%|█████████▊| 20696/21000 [04:17<00:03, 80.28iter/s]"
     ]
    },
    {
     "name": "stdout",
     "output_type": "stream",
     "text": [
      "******** TRAINING STAGE 3 ********\n",
      "Sample rate = 2.0 Hz, Dominant Frequency = 0.5 Hz, Magnitude = 0.0006844274912019261\n",
      "New Kappa: 3.141592653589793\n",
      "N_train: 4, Data size: (1024, 5), Label size: (1024, 1)\n",
      "WARNING:tensorflow:5 out of the last 5 calls to <function NeuralNet.loss_NN at 0x0000015760A60CA0> triggered tf.function retracing. Tracing is expensive and the excessive number of tracings could be due to (1) creating @tf.function repeatedly in a loop, (2) passing tensors with different shapes, (3) passing Python objects instead of tensors. For (1), please define your @tf.function outside of the loop. For (2), @tf.function has reduce_retracing=True option that can avoid unnecessary retracing. For (3), please refer to https://www.tensorflow.org/guide/function#controlling_retracing and https://www.tensorflow.org/api_docs/python/tf/function for  more details.\n"
     ]
    },
    {
     "name": "stderr",
     "output_type": "stream",
     "text": [
      "\n",
      "Adam  Optimization: 100%|██████████| 5000/5000 [00:02<00:00, 2314.86it/s]\n",
      "LBFGS Optimization:  11%|█         | 2998/28000 [00:36<05:10, 80.54iter/s]"
     ]
    },
    {
     "name": "stdout",
     "output_type": "stream",
     "text": [
      "Mode: LBFGSIter: 3000, loss: 1.6646e-11\n"
     ]
    },
    {
     "name": "stderr",
     "output_type": "stream",
     "text": [
      "LBFGS Optimization:  21%|██▏       | 5996/28000 [01:13<04:24, 83.23iter/s]"
     ]
    },
    {
     "name": "stdout",
     "output_type": "stream",
     "text": [
      "Mode: LBFGSIter: 6000, loss: 4.1476e-12\n"
     ]
    },
    {
     "name": "stderr",
     "output_type": "stream",
     "text": [
      "LBFGS Optimization:  32%|███▏      | 8995/28000 [01:49<03:52, 81.80iter/s]"
     ]
    },
    {
     "name": "stdout",
     "output_type": "stream",
     "text": [
      "Mode: LBFGSIter: 9000, loss: 2.4430e-12\n"
     ]
    },
    {
     "name": "stderr",
     "output_type": "stream",
     "text": [
      "LBFGS Optimization:  43%|████▎     | 11999/28000 [02:26<03:16, 81.56iter/s]"
     ]
    },
    {
     "name": "stdout",
     "output_type": "stream",
     "text": [
      "Mode: LBFGSIter: 12000, loss: 1.7002e-12\n"
     ]
    },
    {
     "name": "stderr",
     "output_type": "stream",
     "text": [
      "LBFGS Optimization:  54%|█████▎    | 14994/28000 [03:03<02:35, 83.58iter/s]"
     ]
    },
    {
     "name": "stdout",
     "output_type": "stream",
     "text": [
      "Mode: LBFGSIter: 15000, loss: 1.2418e-12\n"
     ]
    },
    {
     "name": "stderr",
     "output_type": "stream",
     "text": [
      "LBFGS Optimization:  64%|██████▍   | 17991/28000 [03:41<02:04, 80.39iter/s]"
     ]
    },
    {
     "name": "stdout",
     "output_type": "stream",
     "text": [
      "Mode: LBFGSIter: 18000, loss: 1.0068e-12\n"
     ]
    },
    {
     "name": "stderr",
     "output_type": "stream",
     "text": [
      "LBFGS Optimization:  75%|███████▍  | 20999/28000 [04:18<01:25, 82.21iter/s]"
     ]
    },
    {
     "name": "stdout",
     "output_type": "stream",
     "text": [
      "Mode: LBFGSIter: 21000, loss: 7.9805e-13\n"
     ]
    },
    {
     "name": "stderr",
     "output_type": "stream",
     "text": [
      "LBFGS Optimization:  86%|████████▌ | 23991/28000 [04:55<00:48, 82.42iter/s]"
     ]
    },
    {
     "name": "stdout",
     "output_type": "stream",
     "text": [
      "Mode: LBFGSIter: 24000, loss: 6.2744e-13\n"
     ]
    },
    {
     "name": "stderr",
     "output_type": "stream",
     "text": [
      "LBFGS Optimization:  96%|█████████▋| 26992/28000 [05:32<00:11, 84.61iter/s]"
     ]
    },
    {
     "name": "stdout",
     "output_type": "stream",
     "text": [
      "Mode: LBFGSIter: 27000, loss: 5.3852e-13\n"
     ]
    },
    {
     "name": "stderr",
     "output_type": "stream",
     "text": [
      "LBFGS Optimization: 100%|█████████▉| 27983/28000 [05:44<00:00, 81.27iter/s]\n"
     ]
    }
   ],
   "source": [
    "# Compute Prediction for one dataset (dim = 2)\n",
    "num_stages = 4\n",
    "num_hidden_layers = 3\n",
    "num_hidden_nodes = 20\n",
    "L = 2.04\n",
    "\n",
    "training_iters = list([(3000, 7000)] + [(5000, 7000*i) for i in range(2, 10)])[:num_stages]\n",
    "\n",
    "MSNN = MultistageNeuralNetwork(x_train, num_stages, num_hidden_layers, num_hidden_nodes)\n",
    "kappa = 1\n",
    "print(f\"******** TRAINING STAGE {0} ********\")\n",
    "print(f\"Data size: {x_train.shape}, Label size: {y_train.shape}\")\n",
    "\n",
    "MSNN.train(x_train, y_train, stage=0, kappa=1, iters=training_iters[0])\n",
    "curr_residue = y_train - tf.add_n([MSNN.stages[j].predict(x_train) for j in range(1)])\n",
    "\n",
    "for i in range(1, num_stages):\n",
    "    print(f\"******** TRAINING STAGE {i} ********\")\n",
    "    kappa, f_max = MultistageNeuralNetwork.fftn_(x_train, curr_residue)\n",
    "    N_train = calculate_N(f_max, L)\n",
    "    x_train = create_ds(dim, -1.02, 1.02, N_train)\n",
    "    y_train = tf.reshape(poisson(x_train), [len(x_train), 1])\n",
    "    print(f\"N_train: {N_train}, Data size: {x_train.shape}, Label size: {y_train.shape}\")\n",
    "\n",
    "    curr_residue = y_train - tf.add_n([MSNN.stages[j].predict(x_train) for j in range(i)])\n",
    "        \n",
    "    MSNN.train(x_train, curr_residue, stage=i, kappa=kappa, iters=training_iters[i])"
   ]
  },
  {
   "cell_type": "code",
   "execution_count": 19,
   "metadata": {},
   "outputs": [
    {
     "data": {
      "image/png": "[encoded data removed]",
      "text/plain": [
       "<Figure size 640x480 with 1 Axes>"
      ]
     },
     "metadata": {},
     "output_type": "display_data"
    }
   ],
   "source": [
    "model1, model2, model3, model4 = MSNN.stages[0], MSNN.stages[1], MSNN.stages[2], MSNN.stages[3]\n",
    "loss = np.array(model1.loss + model2.loss + model3.loss + model4.loss)\n",
    "plt.figure()\n",
    "plt.plot(loss, 'b-')\n",
    "plt.yscale(\"log\")"
   ]
  },
  {
   "cell_type": "code",
   "execution_count": null,
   "metadata": {},
   "outputs": [],
   "source": [
    "if __name__ == \"__main__\":\n",
    "    args = parse_arguments()\n",
    "\n",
    "    print(\"Parsed arguments\")"
   ]
  }
 ],
 "metadata": {
  "kernelspec": {
   "display_name": "msnn-env",
   "language": "python",
   "name": "python3"
  },
  "language_info": {
   "codemirror_mode": {
    "name": "ipython",
    "version": 3
   },
   "file_extension": ".py",
   "mimetype": "text/x-python",
   "name": "python",
   "nbconvert_exporter": "python",
   "pygments_lexer": "ipython3",
   "version": "3.9.21"
  }
 },
 "nbformat": 4,
 "nbformat_minor": 4
}
