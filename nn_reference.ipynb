{
  "cells": [
    {
      "cell_type": "code",
      "execution_count": 1,
      "id": "fa52558b",
      "metadata": {
        "id": "fa52558b"
      },
      "outputs": [],
      "source": [
        "import random\n",
        "import torch\n",
        "import torch.nn.functional as F\n",
        "import matplotlib.pyplot as plt\n",
        "%matplotlib inline"
      ]
    },
    {
      "cell_type": "code",
      "execution_count": 2,
      "id": "c516c849",
      "metadata": {
        "id": "c516c849"
      },
      "outputs": [],
      "source": [
        "words = open('names.txt', 'r').read().splitlines()"
      ]
    },
    {
      "cell_type": "code",
      "execution_count": 3,
      "id": "756bf2af",
      "metadata": {
        "id": "756bf2af"
      },
      "outputs": [],
      "source": [
        "chars = sorted(list(set(''.join(words))))\n",
        "stoi = {s:i+1 for i,s in enumerate(chars)}\n",
        "stoi['.'] = 0\n",
        "itos = {i:s for s,i in stoi.items()}\n",
        "vocab_size = len(itos)"
      ]
    },
    {
      "cell_type": "code",
      "execution_count": 4,
      "id": "55dfd790",
      "metadata": {
        "id": "55dfd790"
      },
      "outputs": [],
      "source": [
        "random.seed(42)\n",
        "random.shuffle(words)"
      ]
    },
    {
      "cell_type": "code",
      "execution_count": 5,
      "id": "215b1091",
      "metadata": {
        "id": "215b1091"
      },
      "outputs": [],
      "source": [
        "block_size = 8\n",
        "\n",
        "def build_dataset(words):\n",
        "    X, Y = [], []\n",
        "\n",
        "    for w in words:\n",
        "        context = [0] * block_size\n",
        "        for ch in w + '.':\n",
        "            ix = stoi[ch]\n",
        "            X.append(context)\n",
        "            Y.append(ix)\n",
        "            context = context[1:] + [ix]\n",
        "\n",
        "    X = torch.tensor(X)\n",
        "    Y = torch.tensor(Y)\n",
        "    return X, Y\n",
        "\n",
        "n1 = int(0.8*len(words))\n",
        "n2 = int(0.9*len(words))\n",
        "Xtr,  Ytr  = build_dataset(words[:n1])\n",
        "Xdev, Ydev = build_dataset(words[n1:n2])\n",
        "Xte,  Yte  = build_dataset(words[n2:])"
      ]
    },
    {
      "cell_type": "code",
      "execution_count": 6,
      "id": "5ee66fe1",
      "metadata": {
        "id": "5ee66fe1",
        "outputId": "f3f24f21-3ed5-4615-dc0a-cb538a9412a3"
      },
      "outputs": [
        {
          "name": "stdout",
          "output_type": "stream",
          "text": [
            "........ --> y\n",
            ".......y --> u\n",
            "......yu --> h\n",
            ".....yuh --> e\n",
            "....yuhe --> n\n",
            "...yuhen --> g\n",
            "..yuheng --> .\n",
            "........ --> d\n"
          ]
        }
      ],
      "source": [
        "for x,y in zip(Xtr[:8], Ytr[:8]):\n",
        "    print(''.join(itos[ix.item()] for ix in x), '-->', itos[y.item()])"
      ]
    },
    {
      "cell_type": "code",
      "execution_count": 7,
      "id": "1e39a523",
      "metadata": {
        "id": "1e39a523"
      },
      "outputs": [],
      "source": [
        "class Linear:\n",
        "    def __init__(self, fan_in, fan_out, bias=True):\n",
        "        self.weight = torch.randn((fan_in, fan_out)) / fan_in**0.5\n",
        "        self.bias = torch.zeros(fan_out) if bias else None\n",
        "\n",
        "    def __call__(self, x):\n",
        "        self.out = x @ self.weight\n",
        "        if self.bias is not None: self.out += self.bias\n",
        "        return self.out\n",
        "\n",
        "    def parameters(self):\n",
        "        return [self.weight] + ([] if self.bias is None else [self.bias])\n",
        "\n",
        "class BatchNorm1d:\n",
        "\n",
        "    def __init__(self, dim, eps=1e-5, momentum=0.1):\n",
        "        self.eps = eps\n",
        "        self.momentum = momentum\n",
        "        self.training = True\n",
        "\n",
        "        self.gamma = torch.ones(dim)\n",
        "        self.beta = torch.zeros(dim)\n",
        "\n",
        "        self.running_mean = torch.zeros(dim)\n",
        "        self.running_var = torch.ones(dim)\n",
        "\n",
        "    def __call__(self, x):\n",
        "        if self.training:\n",
        "            if x.ndim == 2:\n",
        "                dim = 0\n",
        "            elif x.ndim == 3:\n",
        "                dim = (0,1)\n",
        "            xmean = x.mean(dim, keepdim=True)\n",
        "            xvar = x.var(dim, keepdim=True)\n",
        "        else:\n",
        "            xmean = self.running_mean\n",
        "            xvar = self.running_var\n",
        "        xhat = (x - xmean) / torch.sqrt(xvar + self.eps)\n",
        "        self.out = self.gamma * xhat + self.beta\n",
        "\n",
        "        if self.training:\n",
        "            with torch.no_grad():\n",
        "                self.running_mean = (1 - self.momentum) * self.running_mean + self.momentum * xmean\n",
        "                self.running_var = (1 - self.momentum) * self.running_var + self.momentum * xvar\n",
        "        return self.out\n",
        "\n",
        "    def parameters(self):\n",
        "        return [self.gamma, self.beta]\n",
        "\n",
        "class Tanh:\n",
        "    def __call__(self, x):\n",
        "        self.out = torch.tanh(x)\n",
        "        return self.out\n",
        "    def parameters(self):\n",
        "        return []\n",
        "\n",
        "class Embedding:\n",
        "    def __init__(self, num_embeddings, embedding_dim):\n",
        "        self.weight = torch.randn((num_embeddings, embedding_dim))\n",
        "\n",
        "    def __call__(self, IX):\n",
        "        self.out = self.weight[IX]\n",
        "        return self.out\n",
        "\n",
        "    def parameters(self):\n",
        "        return [self.weight]\n",
        "\n",
        "class Flatten:\n",
        "    def __init__(self, n):\n",
        "        self.n = n\n",
        "\n",
        "    def __call__(self, x):\n",
        "        B, T, C = x.shape\n",
        "        x = x.view(B, (T // self.n), (C * self.n))\n",
        "        if x.shape[1] == 1: x = x.squeeze(1)\n",
        "        self.out = x\n",
        "        return self.out\n",
        "\n",
        "    def parameters(self):\n",
        "        return []\n",
        "\n",
        "class Sequential:\n",
        "    def __init__(self, layers):\n",
        "        self.layers = layers\n",
        "\n",
        "    def __call__(self, x):\n",
        "        for layer in self.layers:\n",
        "            x = layer(x)\n",
        "        self.out = x\n",
        "        return self.out\n",
        "\n",
        "    def parameters(self):\n",
        "        return [p for layer in self.layers for p in layer.parameters()]"
      ]
    },
    {
      "cell_type": "code",
      "execution_count": 8,
      "id": "97d8e23f",
      "metadata": {
        "id": "97d8e23f",
        "outputId": "7c68a11a-9563-46a5-ca8b-b6d2a5ba72ea"
      },
      "outputs": [
        {
          "data": {
            "text/plain": [
              "<torch._C.Generator at 0x263e4201070>"
            ]
          },
          "execution_count": 8,
          "metadata": {},
          "output_type": "execute_result"
        }
      ],
      "source": [
        "torch.manual_seed(42)"
      ]
    },
    {
      "cell_type": "code",
      "execution_count": 9,
      "id": "9f90e60e",
      "metadata": {
        "id": "9f90e60e",
        "outputId": "e61172bb-de3d-411f-fb57-9c85c2df6426"
      },
      "outputs": [
        {
          "name": "stdout",
          "output_type": "stream",
          "text": [
            "76579\n"
          ]
        }
      ],
      "source": [
        "n_embed = 24\n",
        "n_hidden = 128\n",
        "model = Sequential([\n",
        "    Embedding(vocab_size, n_embed),\n",
        "    Flatten(2), Linear(n_embed * 2, n_hidden, bias=False), BatchNorm1d(n_hidden), Tanh(),\n",
        "    Flatten(2), Linear(n_hidden*2,  n_hidden, bias=False), BatchNorm1d(n_hidden), Tanh(),\n",
        "    Flatten(2), Linear(n_hidden*2,  n_hidden, bias=False), BatchNorm1d(n_hidden), Tanh(),\n",
        "    Linear(n_hidden, vocab_size)])\n",
        "\n",
        "with torch.no_grad():\n",
        "    model.layers[-1].weight *= 0.1\n",
        "\n",
        "parameters = model.parameters()\n",
        "print(sum(p.nelement() for p in parameters))\n",
        "for p in parameters:\n",
        "    p.requires_grad = True"
      ]
    },
    {
      "cell_type": "code",
      "execution_count": 10,
      "id": "c2dd913b",
      "metadata": {
        "id": "c2dd913b",
        "outputId": "57a2ca60-1f14-4c0b-8347-8e35eb8bbca3"
      },
      "outputs": [
        {
          "name": "stdout",
          "output_type": "stream",
          "text": [
            "      0/ 200000: 3.3167\n",
            "  10000/ 200000: 2.0576\n",
            "  20000/ 200000: 2.0723\n",
            "  30000/ 200000: 2.5134\n",
            "  40000/ 200000: 2.1476\n",
            "  50000/ 200000: 1.7836\n",
            "  60000/ 200000: 2.2592\n",
            "  70000/ 200000: 1.9331\n",
            "  80000/ 200000: 1.6875\n",
            "  90000/ 200000: 2.0395\n",
            " 100000/ 200000: 1.7736\n",
            " 110000/ 200000: 1.9569\n",
            " 120000/ 200000: 1.7465\n",
            " 130000/ 200000: 1.8126\n",
            " 140000/ 200000: 1.7406\n",
            " 150000/ 200000: 1.7467\n",
            " 160000/ 200000: 1.8806\n",
            " 170000/ 200000: 1.6266\n",
            " 180000/ 200000: 1.6476\n",
            " 190000/ 200000: 1.8555\n"
          ]
        }
      ],
      "source": [
        "max_steps = 200000\n",
        "batch_size = 32\n",
        "lossi = []\n",
        "\n",
        "for i in range(max_steps):\n",
        "\n",
        "    ix = torch.randint(0, Xtr.shape[0], (batch_size,))\n",
        "    Xb, Yb = Xtr[ix], Ytr[ix]\n",
        "\n",
        "    logits = model(Xb)\n",
        "    loss = F.cross_entropy(logits, Yb)\n",
        "\n",
        "    for p in parameters:\n",
        "        p.grad = None\n",
        "    loss.backward()\n",
        "\n",
        "    lr = 0.1 if i < 150000 else 0.01\n",
        "    for p in parameters:\n",
        "        p.data += -lr * p.grad\n",
        "\n",
        "    if i % 10000 == 0:\n",
        "        print(f'{i:7d}/{max_steps:7d}: {loss.item():.4f}')\n",
        "    lossi.append(loss.log10().item())"
      ]
    },
    {
      "cell_type": "code",
      "execution_count": 11,
      "id": "30dfe331",
      "metadata": {
        "id": "30dfe331",
        "outputId": "c92acc3d-1bf2-47a3-cd38-c1613c199e1b"
      },
      "outputs": [
        {
          "data": {
            "text/plain": [
              "[<matplotlib.lines.Line2D at 0x263e89a5e50>]"
            ]
          },
          "execution_count": 11,
          "metadata": {},
          "output_type": "execute_result"
        },
        {
          "data": {
            "image/png": "[encoded data removed]",
            "text/plain": [
              "<Figure size 640x480 with 1 Axes>"
            ]
          },
          "metadata": {},
          "output_type": "display_data"
        }
      ],
      "source": [
        "plt.plot(torch.tensor(lossi).view(-1, 1000).mean(1))"
      ]
    },
    {
      "cell_type": "code",
      "execution_count": 12,
      "id": "bb4dbada",
      "metadata": {
        "id": "bb4dbada"
      },
      "outputs": [],
      "source": [
        "for layer in model.layers:\n",
        "  layer.training = False"
      ]
    },
    {
      "cell_type": "code",
      "execution_count": 13,
      "id": "d6415864",
      "metadata": {
        "id": "d6415864",
        "outputId": "bb2f28be-e648-4dde-9c0e-583d1da09b77"
      },
      "outputs": [
        {
          "name": "stdout",
          "output_type": "stream",
          "text": [
            "train 1.7690284252166748\n",
            "val 1.993652105331421\n"
          ]
        }
      ],
      "source": [
        "@torch.no_grad()\n",
        "def split_loss(split):\n",
        "    x,y = {\n",
        "        'train': (Xtr, Ytr),\n",
        "        'val': (Xdev, Ydev),\n",
        "        'test': (Xte, Yte),\n",
        "    }[split]\n",
        "    logits = model(x)\n",
        "    loss = F.cross_entropy(logits, y)\n",
        "    print(split, loss.item())\n",
        "\n",
        "split_loss('train')\n",
        "split_loss('val')"
      ]
    },
    {
      "cell_type": "code",
      "execution_count": 14,
      "id": "57b7836c",
      "metadata": {
        "id": "57b7836c",
        "outputId": "493f23fa-313e-4a13-9df2-cb9d36a0f5bf"
      },
      "outputs": [
        {
          "name": "stdout",
          "output_type": "stream",
          "text": [
            "aiyanah.\n",
            "giusopf.\n",
            "lorron.\n",
            "roger.\n",
            "rhyitte.\n",
            "christell.\n",
            "jedmccee.\n",
            "kelipson.\n",
            "briyah.\n",
            "sylot.\n",
            "zennica.\n",
            "mythan.\n",
            "daxphon.\n",
            "petrit.\n",
            "adalie.\n",
            "jeniyah.\n",
            "glatipe.\n",
            "manaswi.\n",
            "yeslee.\n",
            "stephania.\n"
          ]
        }
      ],
      "source": [
        "for _ in range(20):\n",
        "\n",
        "    out = []\n",
        "    context = [0] * block_size\n",
        "    while True:\n",
        "        logits = model(torch.tensor([context]))\n",
        "        probs = F.softmax(logits, dim=1)\n",
        "\n",
        "        ix = torch.multinomial(probs, num_samples=1).item()\n",
        "\n",
        "        context = context[1:] + [ix]\n",
        "        out.append(ix)\n",
        "\n",
        "        if ix == 0:\n",
        "            break\n",
        "\n",
        "    print(''.join(itos[i] for i in out))"
      ]
    },
    {
      "cell_type": "code",
      "execution_count": 16,
      "id": "a8be4216",
      "metadata": {},
      "outputs": [
        {
          "name": "stdout",
          "output_type": "stream",
          "text": [
            "tensor([[ 0.5508,  0.1403,  0.0241,  ...,  0.1501,  0.0521, -0.1689],\n",
            "        [-0.5100,  0.2400,  0.5482,  ..., -0.0176,  0.2881,  0.4783],\n",
            "        [ 0.1732, -0.1067,  0.1713,  ...,  0.3472, -0.2884, -0.2549],\n",
            "        ...,\n",
            "        [-0.0608,  0.1216, -0.5859,  ...,  0.2410,  0.0351,  0.2004],\n",
            "        [-0.5535, -0.3665,  0.2606,  ..., -0.0513,  0.1101,  0.3527],\n",
            "        [-0.3535, -0.2590, -0.4098,  ..., -0.1721, -0.2826, -0.0587]],\n",
            "       requires_grad=True)\n",
            "None\n",
            "tensor([[ 0.2373, -0.2891,  0.1930,  ...,  0.3306,  0.1470, -0.1215],\n",
            "        [-0.2849,  0.0624,  0.1236,  ..., -0.2223,  0.0481,  0.0014],\n",
            "        [-0.0655,  0.0973,  0.0200,  ...,  0.0991,  0.2672,  0.1240],\n",
            "        ...,\n",
            "        [-0.3259, -0.4115, -0.2206,  ..., -0.0686, -0.1240,  0.1981],\n",
            "        [-0.0962, -0.0783, -0.0299,  ...,  0.1714, -0.2271,  0.0183],\n",
            "        [-0.3247, -0.2084, -0.0680,  ...,  0.0844,  0.0458, -0.1734]],\n",
            "       requires_grad=True)\n",
            "None\n",
            "tensor([[-0.0534,  0.0936,  0.2017,  ...,  0.0595, -0.1785, -0.1292],\n",
            "        [ 0.1330, -0.0165,  0.1609,  ..., -0.1864,  0.2869,  0.1269],\n",
            "        [ 0.0290, -0.2036, -0.0314,  ..., -0.2108, -0.1115,  0.1084],\n",
            "        ...,\n",
            "        [ 0.1634,  0.1659, -0.4037,  ..., -0.0433,  0.1601, -0.3668],\n",
            "        [ 0.0016, -0.0503, -0.0744,  ..., -0.2653,  0.1420,  0.0820],\n",
            "        [ 0.2767, -0.1745, -0.0563,  ..., -0.1039, -0.6089, -0.1090]],\n",
            "       requires_grad=True)\n",
            "None\n",
            "tensor([[ 0.0471, -0.2839,  0.0576,  ..., -0.0910,  0.0535,  0.1142],\n",
            "        [-0.1293,  0.0842, -0.1741,  ..., -0.2407,  0.0620,  0.1282],\n",
            "        [ 0.0439, -0.2979,  0.1302,  ...,  0.0295,  0.2072,  0.0352],\n",
            "        ...,\n",
            "        [ 0.1335,  0.0163, -0.1544,  ...,  0.0455, -0.1573,  0.0814],\n",
            "        [-0.3276,  0.0105,  0.2187,  ...,  0.1240,  0.4137,  0.1092],\n",
            "        [ 0.0755,  0.0715, -0.0334,  ...,  0.0429,  0.3157, -0.2545]],\n",
            "       requires_grad=True)\n",
            "tensor([-0.3658,  2.1262, -0.6547, -0.0851,  0.3546,  1.6358, -1.1056, -0.8783,\n",
            "         0.4542,  1.2266, -1.0151, -0.4202,  1.0074, -0.1679,  0.9966,  0.5704,\n",
            "        -1.2346, -1.7943,  0.7902,  0.9717,  0.0974,  0.1018, -0.6470, -0.9316,\n",
            "        -1.5522,  1.1414, -0.6219], requires_grad=True)\n"
          ]
        }
      ],
      "source": [
        "for layer in model.layers:\n",
        "    if type(layer) is Linear:\n",
        "        print(layer.weight)\n",
        "        print(layer.bias)"
      ]
    }
  ],
  "metadata": {
    "colab": {
      "provenance": []
    },
    "kernelspec": {
      "display_name": ".venv",
      "language": "python",
      "name": "python3"
    },
    "language_info": {
      "codemirror_mode": {
        "name": "ipython",
        "version": 3
      },
      "file_extension": ".py",
      "mimetype": "text/x-python",
      "name": "python",
      "nbconvert_exporter": "python",
      "pygments_lexer": "ipython3",
      "version": "3.12.4"
    }
  },
  "nbformat": 4,
  "nbformat_minor": 5
}
