{
 "cells": [
  {
   "cell_type": "code",
   "execution_count": 1,
   "metadata": {},
   "outputs": [
    {
     "name": "stderr",
     "output_type": "stream",
     "text": [
      "2025-03-12 14:25:59.293184: I tensorflow/core/platform/cpu_feature_guard.cc:210] This TensorFlow binary is optimized to use available CPU instructions in performance-critical operations.\n",
      "To enable the following instructions: AVX2 FMA, in other operations, rebuild TensorFlow with the appropriate compiler flags.\n"
     ]
    }
   ],
   "source": [
    "import warnings\n",
    "warnings.simplefilter(\"ignore\")\n",
    "import os\n",
    "import sys\n",
    "os.environ['TF_ENABLE_ONEDNN_OPTS'] = '0'\n",
    "import tensorflow as tf\n",
    "import time\n",
    "import logging\n",
    "tf.get_logger().setLevel(logging.ERROR)\n",
    "\n",
    "import numpy as np\n",
    "import matplotlib.pyplot as plt\n",
    "from scipy.fft import fftfreq, fftshift, fftn\n",
    "import matplotlib.pyplot as plt\n",
    "from pylab import *\n",
    "\n",
    "from utils import NeuralNet, create_ds, poisson"
   ]
  },
  {
   "cell_type": "code",
   "execution_count": 2,
   "metadata": {},
   "outputs": [],
   "source": [
    "class MultistageNeuralNetwork:\n",
    "    \"\"\"\n",
    "    MultistageNeuralNetwork is a multi-stage model used for predicting\n",
    "    high-dimensional function outputs through regression. This class encapsulates\n",
    "    the functionality for constructing, training, and predicting using a sequence\n",
    "    of neural networks, where each stage of the network can focus on different\n",
    "    aspects of the data.\n",
    "\n",
    "    Attributes:\n",
    "        dim (int): Dimensionality of the input data.\n",
    "        N (int): Number of points per dimension in the dataset.\n",
    "        stages (list): List of neural networks, one for each stage.\n",
    "        layers (list): Architecture of the neural network (input layer, hidden layers, output layer).\n",
    "        lt (list): Minimum values for each dimension in the input data.\n",
    "        ut (list): Maximum values for each dimension in the input data.\n",
    "    \"\"\"\n",
    "\n",
    "    def __init__(self, x_train, num_hidden_layers, num_hidden_nodes):\n",
    "        \"\"\"\n",
    "        Initialize the MultistageNeuralNetwork instance.\n",
    "\n",
    "        Args:\n",
    "            x_train (tf.Tensor): Input training data.\n",
    "            num_stages (int): Number of stages in the multi-stage neural network.\n",
    "            num_hidden_layers (int): Number of hidden layers in each stage.\n",
    "            num_hidden_nodes (int): Number of nodes in each hidden layer.\n",
    "        \"\"\"\n",
    "        self.dim = x_train.shape[-1]                                 # Number of dimensions in the input data.\n",
    "        self.N = int(round(x_train.shape[0] ** (1 / self.dim)))      # Number of points per dimension.\n",
    "        # self.stages = [None] * num_stages                            # List to store each stage's neural network.\n",
    "        self.stages = []\n",
    "        self.layers = [self.dim] + ([num_hidden_nodes] * num_hidden_layers) + [1]  # Neural network architecture.\n",
    "        self.lt = [tf.math.reduce_min(x_train[:, i]) for i in range(x_train.shape[-1])]  # Min values for each dimension.\n",
    "        self.ut = [tf.math.reduce_max(x_train[:, i]) for i in range(x_train.shape[-1])]  # Max values for each dimension.\n",
    "\n",
    "    def train(self, x_train, y_train, stage, kappa, iters):\n",
    "        \"\"\"\n",
    "        Train a specific stage of the neural network.\n",
    "\n",
    "        Args:\n",
    "            x_train (tf.Tensor): Input training data.\n",
    "            y_train (tf.Tensor): Corresponding labels for training.\n",
    "            stage (int): The stage index to train.\n",
    "            kappa (float): Scaling factor for activation.\n",
    "            iters (list): Number of iterations for [Adam optimizer, L-BFGS optimizer].\n",
    "        \"\"\"\n",
    "        act = 0 if stage == 0 else 1  # Use different activation for first stage.\n",
    "        lt = [tf.cast(tf.math.reduce_min(x_train[:, i]).numpy(), dtype=tf.float64) for i in range(x_train.shape[-1])]\n",
    "        ut = [tf.cast(tf.math.reduce_max(x_train[:, i]).numpy(), dtype=tf.float64) for i in range(x_train.shape[-1])]\n",
    "\n",
    "        self.stages.append(NeuralNet(x_train, y_train, self.layers, kappa=kappa, lt=lt, ut=ut, acts=act))\n",
    "        # self.stages[stage] = NeuralNet(x_train, y_train, self.layers, kappa=kappa, lt=lt, ut=ut, acts=act)\n",
    "        self.stages[stage].train(iters[0], 1)  # Train using Adam optimizer.\n",
    "        self.stages[stage].train(iters[1], 2)  # Train using L-BFGS optimizer.\n",
    "\n",
    "    @staticmethod\n",
    "    def fftn_(x_train, residue):\n",
    "        \"\"\"\n",
    "        Perform a Fast Fourier Transform (FFT) to analyze the frequency domain of the residue.\n",
    "\n",
    "        Args:\n",
    "            x_train (tf.Tensor): Input training data.\n",
    "            residue (tf.Tensor): Residual errors between predictions and true values.\n",
    "\n",
    "        Returns:\n",
    "            float: Adjusted scaling factor (kappa) based on the dominant frequency.\n",
    "        \"\"\"\n",
    "        dim = x_train.shape[-1]\n",
    "        N_train = int(round(x_train.shape[0] ** (1 / dim)))\n",
    "        g = residue.numpy()\n",
    "\n",
    "        GG = g.reshape([N_train] * dim)  # Reshape residue into a grid.\n",
    "        G = fftn(GG)                    # Perform FFT.\n",
    "        G_shifted = fftshift(G)         # Shift zero-frequency component to the center.\n",
    "\n",
    "        N = len(G)\n",
    "        total_time_range = 2  # Time range from -1 to 1.\n",
    "        sample_rate = N / total_time_range  # Sampling rate.\n",
    "\n",
    "        half_N = N // 2\n",
    "        T = 1.0 / sample_rate\n",
    "        idxs = tuple(slice(half_N, N, 1) for _ in range(dim))\n",
    "        G_pos = G_shifted[idxs]  # Extract positive frequencies.\n",
    "\n",
    "        freqs = [fftshift(fftfreq(GG.shape[i], d=T)) for i in range(len(GG.shape))]\n",
    "        freq_pos = [freqs[i][half_N:] for i in range(len(freqs))]\n",
    "\n",
    "        magnitude_spectrum = np.abs(G_pos)\n",
    "        max_idx = np.unravel_index(np.argmax(magnitude_spectrum), magnitude_spectrum.shape)\n",
    "        dominant_freqs = [freq_pos[i][max_idx[i]] for i in range(len(freq_pos))]\n",
    "        magnitude = magnitude_spectrum[max_idx] / (N ** dim)  # Normalize magnitude.\n",
    "\n",
    "        dominant_freq = max(dominant_freqs)\n",
    "        # print(f\"Sample rate = {sample_rate} Hz, Dominant Frequency = {dominant_freq} Hz, Magnitude = {magnitude}\")\n",
    "\n",
    "        kappa_f = 2 * np.pi * dominant_freq if dominant_freq > 0 else 2 * np.pi * 0.01\n",
    "        # print(f\"New Kappa: {kappa_f}\")\n",
    "        return kappa_f, dominant_freq, magnitude_spectrum\n",
    "    \n",
    "    def sfftn(x_train, residue, sparsity_threshold=0.01, k=None):\n",
    "        \"\"\"\n",
    "        Perform a Sparse Fast Fourier Transform (SFFT) to analyze the frequency domain of the residue,\n",
    "        optimized for high-dimensional data. Assumes data is already on a complete grid.\n",
    "\n",
    "        Args:\n",
    "            x_train (tf.Tensor): Input training data with coordinates.\n",
    "            residue (tf.Tensor): Residual errors between predictions and true values.\n",
    "            sparsity_threshold (float): Threshold below which frequency components are set to zero (relative to max).\n",
    "            max_frequencies (int, optional): Maximum number of frequency components to keep. If None, use threshold only.\n",
    "\n",
    "        Returns:\n",
    "            tuple: (kappa_f, dominant_freq, sparse_spectrum)\n",
    "                - kappa_f: Adjusted scaling factor based on the dominant frequency\n",
    "                - dominant_freq: The dominant frequency identified\n",
    "                - sparse_spectrum: Sparse representation of the frequency spectrum\n",
    "        \"\"\"\n",
    "        # Extract dimensionality info\n",
    "        dim = x_train.shape[-1]\n",
    "        N_train = int(round(x_train.shape[0] ** (1 / dim)))\n",
    "        g = residue.numpy().flatten()\n",
    "        \n",
    "        # For very high dimensions, we may need to use a smaller grid\n",
    "        if dim > 4:\n",
    "            # Determine appropriate grid size based on available memory\n",
    "            # For very high dimensions, use smaller N_per_dim\n",
    "            N_per_dim = min(N_train, max(8, int(32 / np.sqrt(dim))))\n",
    "        else:\n",
    "            N_per_dim = N_train\n",
    "        \n",
    "        # Reshape to grid - since we assume data is on complete grid, this should work\n",
    "        GG = g.reshape([N_per_dim] * dim)\n",
    "        \n",
    "        # Perform FFT on the grid\n",
    "        G = fftn(GG)\n",
    "        G_shifted = fftshift(G)\n",
    "        \n",
    "        # Setup frequency domain parameters\n",
    "        N = N_per_dim\n",
    "        total_time_range = 2  # Time range from -1 to 1\n",
    "        sample_rate = N / total_time_range\n",
    "        half_N = N // 2\n",
    "        T = 1.0 / sample_rate\n",
    "        \n",
    "        # Extract positive frequencies\n",
    "        idxs = tuple(slice(half_N, N, 1) for _ in range(dim))\n",
    "        G_pos = G_shifted[idxs]\n",
    "        \n",
    "        # Calculate frequency axes\n",
    "        freqs = [fftshift(fftfreq(N, d=T)) for _ in range(dim)]\n",
    "        freq_pos = [freqs[i][half_N:] for i in range(dim)]\n",
    "        \n",
    "        # Compute magnitude spectrum\n",
    "        magnitude_spectrum = np.abs(G_pos)\n",
    "        max_magnitude = np.max(magnitude_spectrum)\n",
    "        \n",
    "        # Apply sparsity threshold - keep only components above threshold\n",
    "        if sparsity_threshold > 0:\n",
    "            mask = magnitude_spectrum > (sparsity_threshold * max_magnitude)\n",
    "            \n",
    "            # Further limit number of frequencies if specified\n",
    "            if k is not None and np.sum(mask) > k:\n",
    "                # Sort indices by magnitude and keep only top k\n",
    "                flat_idx = np.argsort(magnitude_spectrum.flatten())[::-1][:k]\n",
    "                new_mask = np.zeros_like(magnitude_spectrum, dtype=bool).flatten()\n",
    "                new_mask[flat_idx] = True\n",
    "                mask = new_mask.reshape(magnitude_spectrum.shape)\n",
    "        else:\n",
    "            mask = np.ones_like(magnitude_spectrum, dtype=bool)\n",
    "        \n",
    "        # Create sparse representation\n",
    "        sparse_magnitude = np.zeros_like(magnitude_spectrum)\n",
    "        sparse_magnitude[mask] = magnitude_spectrum[mask]\n",
    "        \n",
    "        # Find dominant frequency\n",
    "        max_idx = np.unravel_index(np.argmax(magnitude_spectrum), magnitude_spectrum.shape)\n",
    "        dominant_freqs = [freq_pos[i][max_idx[i]] for i in range(dim)]\n",
    "        magnitude = magnitude_spectrum[max_idx] / (N ** dim)  # Normalize magnitude\n",
    "        \n",
    "        dominant_freq = max(dominant_freqs)\n",
    "        kappa_f = 2 * np.pi * dominant_freq if dominant_freq > 0 else 2 * np.pi * 0.01\n",
    "        \n",
    "        # Convert to sparse matrix representation for high dimensions\n",
    "        if dim <= 2:\n",
    "            # For 1D or 2D, just return the pruned array\n",
    "            sparse_spectrum = sparse_magnitude\n",
    "        else:\n",
    "            # For higher dimensions, use COO sparse format\n",
    "            sparse_idx = np.where(mask)\n",
    "            values = magnitude_spectrum[sparse_idx]\n",
    "            sparse_spectrum = (sparse_idx, values, magnitude_spectrum.shape)\n",
    "        \n",
    "        return kappa_f, dominant_freq, sparse_spectrum\n",
    "\n",
    "\n",
    "    def find_zeros(residue):\n",
    "        sign_residue = np.sign(residue)\n",
    "        num_zeros = 0\n",
    "        for axis in range(residue.ndim):\n",
    "            shifted_signs = np.roll(sign_residue, shift=-1, axis=axis)\n",
    "            mask = (sign_residue[:-1] * shifted_signs[:-1]) < 0\n",
    "            num_zeros += np.count_nonzero(mask)\n",
    "        kappa = 3 * num_zeros\n",
    "        return kappa"
   ]
  },
  {
   "cell_type": "code",
   "execution_count": 21,
   "metadata": {},
   "outputs": [
    {
     "name": "stdout",
     "output_type": "stream",
     "text": [
      "(20, 1) (20, 1)\n"
     ]
    }
   ],
   "source": [
    "dim = 1\n",
    "L = 2.04\n",
    "num_stages = 2\n",
    "num_hidden_layers = 3\n",
    "num_hidden_nodes = 20\n",
    "precision = 1e-8\n",
    "points_per_dim = 20\n",
    "\n",
    "N_train = points_per_dim ** dim\n",
    "x_train = create_ds(dim, -L/2, L/2, N_train)\n",
    "y_train = tf.reshape(poisson(x_train), [len(x_train), 1])\n",
    "training_iters = list([(3000, 6000)] + [(5000, 8000*i) for i in range(2, 15)])[:num_stages]\n",
    "\n",
    "print(x_train.shape, y_train.shape)"
   ]
  },
  {
   "cell_type": "code",
   "execution_count": 22,
   "metadata": {},
   "outputs": [
    {
     "name": "stdout",
     "output_type": "stream",
     "text": [
      "TRAINING STAGE 1: Data size: (20, 1)\n"
     ]
    },
    {
     "name": "stderr",
     "output_type": "stream",
     "text": [
      "Adam  Optimization: 100%|██████████| 3000/3000 [00:04<00:00, 617.99it/s]\n",
      "LBFGS Optimization:  50%|████▉     | 2999/6000 [01:59<01:47, 27.82iter/s]"
     ]
    },
    {
     "name": "stdout",
     "output_type": "stream",
     "text": [
      "\n",
      "Mode: LBFGSIter: 3000, loss: 1.1379e-08\n"
     ]
    },
    {
     "name": "stderr",
     "output_type": "stream",
     "text": [
      "LBFGS Optimization:  91%|█████████ | 5468/6000 [03:33<00:20, 25.64iter/s]"
     ]
    },
    {
     "name": "stdout",
     "output_type": "stream",
     "text": [
      "Completed training stage 1, loss=1.5547312974868448e-09, residue=3.4064188193927426e-05\n"
     ]
    },
    {
     "name": "stderr",
     "output_type": "stream",
     "text": [
      "\n"
     ]
    }
   ],
   "source": [
    "# STAGE 1\n",
    "\n",
    "MSNN = MultistageNeuralNetwork(x_train, num_hidden_layers, num_hidden_nodes)\n",
    "kappa = 1\n",
    "print(f\"TRAINING STAGE {1}: Data size: {x_train.shape}\")\n",
    "MSNN.train(x_train, y_train, stage=0, kappa=1, iters=training_iters[0])\n",
    "curr_residue = y_train - tf.add_n([MSNN.stages[j].predict(x_train) for j in range(1)])\n",
    "mean_residue = tf.reduce_mean(tf.abs(curr_residue))\n",
    "print(f\"Completed training stage 1, loss={MSNN.stages[-1].loss[-1]}, residue={mean_residue}\")"
   ]
  },
  {
   "cell_type": "code",
   "execution_count": 24,
   "metadata": {},
   "outputs": [
    {
     "data": {
      "text/plain": [
       "<Figure size 1200x600 with 0 Axes>"
      ]
     },
     "metadata": {},
     "output_type": "display_data"
    },
    {
     "data": {
      "image/png": "[encoded data removed]",
      "text/plain": [
       "<Figure size 800x500 with 1 Axes>"
      ]
     },
     "metadata": {},
     "output_type": "display_data"
    }
   ],
   "source": [
    "kappa_f1, dominant_freq1, fft_spectrum = MultistageNeuralNetwork.fftn_(x_train, curr_residue)\n",
    "kappa_f2, dominant_freq2, sparse_spectrum = MultistageNeuralNetwork.sfftn(x_train, curr_residue)\n",
    "N = int(round(x_train.shape[0] ** (1 / dim)))\n",
    "\n",
    "# Plot Frequency Spectrum\n",
    "plt.figure(figsize=(12, 6))\n",
    "\n",
    "residue_reshape = curr_residue.numpy().reshape([int(round(N_train ** (1 / dim)))] * dim)\n",
    "full_spectrum = np.fft.fftshift(np.fft.fftn(residue_reshape))\n",
    "full_spectrum_magnitude = np.log1p(np.abs(full_spectrum))\n",
    "\n",
    "frequencies_full = np.fft.fftfreq(len(full_spectrum))  # Frequencies for full FFT\n",
    "frequencies_sparse = np.fft.fftfreq(len(sparse_spectrum))  # Frequencies for sparse FFT\n",
    "\n",
    "# Compute magnitudes\n",
    "magnitude_full = np.abs(full_spectrum)\n",
    "magnitude_sparse = np.abs(sparse_spectrum)\n",
    "\n",
    "# Plotting\n",
    "plt.figure(figsize=(8, 5))\n",
    "plt.plot(frequencies_full, np.log1p(magnitude_full), label=\"Full FFT\", color=\"blue\", alpha=0.7)\n",
    "plt.scatter(frequencies_sparse, np.log1p(magnitude_sparse), label=\"Sparse FFT\", color=\"red\", marker=\"o\", alpha=0.7)\n",
    "\n",
    "plt.xlabel(\"Frequency Index\")\n",
    "plt.ylabel(\"Log Magnitude\")\n",
    "plt.title(\"Comparison of Full and Sparse FFT Spectra (1D)\")\n",
    "plt.legend()\n",
    "plt.grid(True)\n",
    "plt.show()"
   ]
  },
  {
   "cell_type": "code",
   "execution_count": null,
   "metadata": {},
   "outputs": [],
   "source": [
    "i = 1\n",
    "while mean_residue > precision and i < num_stages:\n",
    "    # kappa, f_d = MultistageNeuralNetwork.fftn_(x_train, curr_residue)\n",
    "    # if f_d == 0: \n",
    "    #     logging.info(\"Oops! Your dominant frequency is 0...\")\n",
    "    #     break\n",
    "    kappa = MultistageNeuralNetwork.find_zeros(curr_residue)\n",
    "    \n",
    "    # N_train = int(6 * np.pi * f_d)\n",
    "    # x_train = create_ds(dim, -L/2, L/2, N_train, max_data_size)\n",
    "    # y_train = tf.reshape(poisson(x_train), [len(x_train), 1])\n",
    "\n",
    "    print(f\"TRAINING STAGE {i + 1}: Data size: {x_train.shape}\")\n",
    "\n",
    "    curr_residue = y_train - tf.add_n([MSNN.stages[j].predict(x_train) for j in range(i)])\n",
    "    MSNN.train(x_train, curr_residue, stage=i, kappa=kappa, iters=training_iters[i])\n",
    "\n",
    "    mean_residue = tf.reduce_mean(tf.abs(y_train - tf.add_n([MSNN.stages[j].predict(x_train) for j in range(i)])))\n",
    "    print(f\"Completed training stage {i + 1}, loss={MSNN.stages[i].loss[-1]}, residue={mean_residue}\")\n",
    "    i += 1\n",
    "if i >= num_stages:\n",
    "        print(f\"Reached maximum stages, loss={MSNN.stages[-1].loss[-1]}, residue={mean_residue}\")\n",
    "elif mean_residue <= precision:\n",
    "    print(f\"Reached threshold precision, loss={MSNN.stages[-1].loss[-1]}, residue={mean_residue}\")\n",
    "else:\n",
    "    print(f\"Exited training unexpectedly, previous loss={MSNN.stages[-2].loss[-1]}, previous residue={mean_residue}\")"
   ]
  },
  {
   "cell_type": "code",
   "execution_count": null,
   "metadata": {},
   "outputs": [],
   "source": [
    "loss = np.concatenate([stage.loss for stage in MSNN.stages])\n",
    "plt.figure()\n",
    "plt.plot(loss, 'b-')\n",
    "plt.yscale(\"log\")\n",
    "plt.title(f\"MSNN Dim {dim} Loss Plot\")\n",
    "plt.xlabel(\"Iterations\")\n",
    "plt.ylabel(\"Loss\")\n",
    "# plt.savefig(f\"plots/MSNN_DIM_{dim}.png\")\n"
   ]
  }
 ],
 "metadata": {
  "kernelspec": {
   "display_name": "msnn-env",
   "language": "python",
   "name": "python3"
  },
  "language_info": {
   "codemirror_mode": {
    "name": "ipython",
    "version": 3
   },
   "file_extension": ".py",
   "mimetype": "text/x-python",
   "name": "python",
   "nbconvert_exporter": "python",
   "pygments_lexer": "ipython3",
   "version": "3.9.21"
  }
 },
 "nbformat": 4,
 "nbformat_minor": 2
}
