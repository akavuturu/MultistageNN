{
 "cells": [
  {
   "cell_type": "code",
   "execution_count": null,
   "id": "5a9f1aae",
   "metadata": {},
   "outputs": [
    {
     "name": "stderr",
     "output_type": "stream",
     "text": [
      "2025-04-09 13:38:10.092434: I tensorflow/core/platform/cpu_feature_guard.cc:210] This TensorFlow binary is optimized to use available CPU instructions in performance-critical operations.\n",
      "To enable the following instructions: AVX2 FMA, in other operations, rebuild TensorFlow with the appropriate compiler flags.\n"
     ]
    }
   ],
   "source": [
    "import numpy as np\n",
    "import matplotlib.pyplot as plt\n",
    "import tensorflow as tf\n",
    "import pickle\n",
    "import time\n",
    "import seaborn as sns\n",
    "from mpl_toolkits.mplot3d import Axes3D\n",
    "from matplotlib.colors import LogNorm\n",
    "import pandas as pd\n",
    "from scipy.interpolate import griddata\n",
    "from MSNN_GPU import MultistageNeuralNetwork\n",
    "from utils import NeuralNet, create_ds, poisson"
   ]
  },
  {
   "cell_type": "code",
   "execution_count": null,
   "id": "2169017d",
   "metadata": {},
   "outputs": [],
   "source": [
    "def load_model(file_path, x_train, y_train):\n",
    "    with open(file_path, 'rb') as f:\n",
    "        model_data = pickle.load(f)\n",
    "        \n",
    "    model = MultistageNeuralNetwork(x_train, len(model_data['layers']) - 2, model_data['layers'][1])\n",
    "    model.dim = model_data['dim']\n",
    "    model.N = model_data['N']\n",
    "    model.layers = model_data['layers']\n",
    "    model.lt = model_data['lt']\n",
    "    model.ut = model_data['ut']\n",
    "\n",
    "    for stage_data in model_data['stages']:\n",
    "        nn = NeuralNet(x_train, y_train, layers=model.layers, kappa=stage_data['kappa'],\n",
    "            lt=stage_data['lt'], ut=stage_data['ut'], acts=0\n",
    "        )\n",
    "        nn.weights = [tf.Variable(w, dtype=tf.float64) for w in stage_data['weights']]\n",
    "        nn.biases = [tf.Variable(b, dtype=tf.float64) for b in stage_data['biases']]\n",
    "        model.stages.append(nn)\n",
    "\n",
    "    return model"
   ]
  },
  {
   "cell_type": "code",
   "execution_count": null,
   "id": "113ba467",
   "metadata": {},
   "outputs": [],
   "source": [
    "def create_data(N_train, dim):\n",
    "    x_train = create_ds(dim, -1.02, 1.02, N_train)\n",
    "    y_train = tf.reshape(poisson(x_train), [len(x_train), 1])\n",
    "    return x_train, y_train\n",
    "\n",
    "x_one, y_one = create_data(20, 1)\n",
    "x_five, y_five = create_data(15, 5)\n",
    "x_eight, y_eight = create_data(6, 8)\n",
    "x_ten, y_ten = create_data(2, 10)"
   ]
  }
 ],
 "metadata": {
  "kernelspec": {
   "display_name": "msnn-env",
   "language": "python",
   "name": "python3"
  },
  "language_info": {
   "codemirror_mode": {
    "name": "ipython",
    "version": 3
   },
   "file_extension": ".py",
   "mimetype": "text/x-python",
   "name": "python",
   "nbconvert_exporter": "python",
   "pygments_lexer": "ipython3",
   "version": "3.9.21"
  }
 },
 "nbformat": 4,
 "nbformat_minor": 5
}
